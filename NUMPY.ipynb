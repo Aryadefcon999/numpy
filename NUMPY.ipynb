{
 "cells": [
  {
   "cell_type": "code",
   "execution_count": 1,
   "id": "d6e540db",
   "metadata": {},
   "outputs": [],
   "source": [
    "# #libraries\n",
    "# #1-Tensorflow:-speech image recognition, text bases app, time seris,videodetection(Use for Ml,DEEP L)\n",
    "\n",
    "# #2:-NUMPY (NUMPY AND PANDA ARE USE IN DATA ANALIYSIS,CREAT THE POWERFULL N-DIMENTIONS OF ARRAY,forms the base of other libraries\n",
    "\n",
    "# like scipy,scikit-learn,Replacement of matlab when uses with scipy matplotlab)\n",
    "\n",
    "# #3:-scipy is the collection of mathematical algorithem and scientific funtions buil on the numpy extension of python\n",
    "\n",
    "# high level commands and classes for manipulating and visualizing data,use for mulitdimesion\n",
    "\n",
    "# #4-panda use in data science data analysis and cleaning use,genral data wrangling, ETL jobs & data storage, used in wide variety \n",
    "\n",
    "# of acadamic and commercial domain include statistics ETC,time series-species funtionality\n",
    "# #5:-matplotlib"
   ]
  },
  {
   "cell_type": "code",
   "execution_count": 2,
   "id": "cecef9ea",
   "metadata": {},
   "outputs": [],
   "source": [
    "# # #numpy\n",
    "# #The array is 1D array and 2D 3D \n",
    "# NumPy aims to provide an array object that is up to 50x faster than traditional Python lists.\n",
    "# # Numpy is the core libary for scientific and numerical computing in python\n",
    "# #Its provide hight performance multidimensional array object and tools of working arrays\n",
    "# #in Numpey, dememsions are called axes\n",
    "# #Differwent between NUmpy and List\n",
    "# list is ver slow the numpy\n",
    "# nympy using there contignus memeor\n"
   ]
  },
  {
   "cell_type": "code",
   "execution_count": 3,
   "id": "e827afbe",
   "metadata": {},
   "outputs": [
    {
     "name": "stdout",
     "output_type": "stream",
     "text": [
      "Requirement already satisfied: numpy in c:\\users\\ketan\\anaconda3\\lib\\site-packages (1.20.3)\n",
      "Note: you may need to restart the kernel to use updated packages.\n"
     ]
    }
   ],
   "source": [
    "pip install numpy\n"
   ]
  },
  {
   "cell_type": "markdown",
   "id": "4d7dcf7f",
   "metadata": {},
   "source": [
    "Basic numpy array"
   ]
  },
  {
   "cell_type": "code",
   "execution_count": 2,
   "id": "8a7aa99c",
   "metadata": {},
   "outputs": [
    {
     "data": {
      "text/plain": [
       "array([0.015625  , 0.00024414])"
      ]
     },
     "execution_count": 2,
     "metadata": {},
     "output_type": "execute_result"
    }
   ],
   "source": [
    "#Mathematical funtion \n",
    "\n",
    "import numpy as np\n",
    "a=np.emath.power([2,4],-6)\n",
    "a\n"
   ]
  },
  {
   "cell_type": "code",
   "execution_count": 3,
   "id": "563833bb",
   "metadata": {},
   "outputs": [
    {
     "data": {
      "text/plain": [
       "True"
      ]
     },
     "execution_count": 3,
     "metadata": {},
     "output_type": "execute_result"
    }
   ],
   "source": [
    "import math\n",
    "np.emath.log(-math.exp(1)) == (1+1j*math.pi)"
   ]
  },
  {
   "cell_type": "code",
   "execution_count": 2,
   "id": "4c5eeb71",
   "metadata": {},
   "outputs": [
    {
     "name": "stdout",
     "output_type": "stream",
     "text": [
      "[1 2 3]\n",
      "[[1. 1. 1. 1. 1. 1.]\n",
      " [1. 1. 1. 1. 1. 1.]\n",
      " [1. 1. 1. 1. 1. 1.]\n",
      " [1. 1. 1. 1. 1. 1.]\n",
      " [1. 1. 1. 1. 1. 1.]]\n",
      "[[0. 0. 0. 0. 0. 0.]\n",
      " [0. 0. 0. 0. 0. 0.]]\n"
     ]
    },
    {
     "data": {
      "text/plain": [
       "(3, 3)"
      ]
     },
     "execution_count": 2,
     "metadata": {},
     "output_type": "execute_result"
    }
   ],
   "source": [
    " import numpy as a\n",
    " b=a.array([1,2,3])#1d\n",
    " c=a.array([[1,2,3],[1,2,3],[1,2,3,]])#3d\n",
    " b.ndim #dimesion\n",
    "print(b)\n",
    " d=a.zeros([2,6])#for inisclise my own weight for we use zero\n",
    "e=a.ones([5,6])\n",
    "print(e)\n",
    " print(d)\n",
    "c.shape\n"
   ]
  },
  {
   "cell_type": "code",
   "execution_count": 1,
   "id": "ab21ad10",
   "metadata": {},
   "outputs": [],
   "source": [
    "import numpy as np\n",
    "import time\n",
    "import sys"
   ]
  },
  {
   "cell_type": "code",
   "execution_count": 2,
   "id": "a6bc433c",
   "metadata": {},
   "outputs": [
    {
     "name": "stdout",
     "output_type": "stream",
     "text": [
      "2800\n"
     ]
    }
   ],
   "source": [
    "b=range(100)\n",
    "print(sys.getsizeof(5)*len(b))"
   ]
  },
  {
   "cell_type": "code",
   "execution_count": 7,
   "id": "ce11c026",
   "metadata": {},
   "outputs": [
    {
     "name": "stdout",
     "output_type": "stream",
     "text": [
      "400\n"
     ]
    }
   ],
   "source": [
    "d=np.arange(100)\n",
    "\n",
    "print(d.size*d.itemsize)"
   ]
  },
  {
   "cell_type": "code",
   "execution_count": 8,
   "id": "c918a3ba",
   "metadata": {},
   "outputs": [],
   "source": [
    "size=10000"
   ]
  },
  {
   "cell_type": "code",
   "execution_count": 9,
   "id": "7c2f7bf6",
   "metadata": {},
   "outputs": [],
   "source": [
    "s=range(size)\n",
    "s1=range(size)\n",
    "s2=np.arange(size)\n",
    "s3=np.arange(size)\n"
   ]
  },
  {
   "cell_type": "code",
   "execution_count": 10,
   "id": "abad32ab",
   "metadata": {},
   "outputs": [
    {
     "name": "stdout",
     "output_type": "stream",
     "text": [
      "the time use in list 5.922555923461914\n"
     ]
    }
   ],
   "source": [
    "start=time.time()\n",
    "result= [(x,y)for x,y in zip(s,s1)]\n",
    "\n",
    "print(\"the time use in list\",(time.time() - start)*1000)"
   ]
  },
  {
   "cell_type": "code",
   "execution_count": 11,
   "id": "898b5d4b",
   "metadata": {},
   "outputs": [
    {
     "name": "stdout",
     "output_type": "stream",
     "text": [
      "1.0869503021240234\n"
     ]
    }
   ],
   "source": [
    "start=time.time()\n",
    "result=s2+s3\n",
    "print((time.time() -start) * 1000)"
   ]
  },
  {
   "cell_type": "code",
   "execution_count": 10,
   "id": "20a4ad37",
   "metadata": {},
   "outputs": [
    {
     "name": "stdout",
     "output_type": "stream",
     "text": [
      "the first rank array [1 2 3]\n",
      "second ranke array <class 'numpy.ndarray'> [[1 2 3]\n",
      " [1 2 3]]\n",
      "thsi is the tuple  [1 2 3 4]\n"
     ]
    }
   ],
   "source": [
    "import numpy as np\n",
    "num = np.array([1,2,3])\n",
    "print(\"the first rank array\",num)\n",
    "num1 =np.array([[1,2,3],[1,2,3]])\n",
    "print('second ranke array',type(num1),num1)\n",
    "tup=np.array((1,2,3,4))\n",
    "print(\"thsi is the tuple \", tup)\n"
   ]
  },
  {
   "cell_type": "code",
   "execution_count": 11,
   "id": "b1e7752d",
   "metadata": {},
   "outputs": [
    {
     "name": "stdout",
     "output_type": "stream",
     "text": [
      "[[ 6.  8.  8.]\n",
      " [ 5.  9. 11.]]\n"
     ]
    }
   ],
   "source": [
    "import numpy as np\n",
    "num = np.array([[1,2,3],[3,4,5]],dtype=np.float64)\n",
    "add = np.array([[5,6,5],[2,5,6]])\n",
    "print(num + add)"
   ]
  },
  {
   "cell_type": "code",
   "execution_count": 12,
   "id": "62a84325",
   "metadata": {},
   "outputs": [
    {
     "name": "stdout",
     "output_type": "stream",
     "text": [
      "[[ 6.+0.j  8.+0.j  8.+0.j]\n",
      " [ 5.+0.j  9.+0.j 11.+0.j]]\n"
     ]
    }
   ],
   "source": [
    "import numpy as np\n",
    "num = np.array([[1,2,3],[3,4,5]],dtype=np.complex64)\n",
    "add = np.array([[5,6,5],[2,5,6]])\n",
    "print(num + add)"
   ]
  },
  {
   "cell_type": "code",
   "execution_count": 13,
   "id": "8cb1486d",
   "metadata": {},
   "outputs": [
    {
     "name": "stdout",
     "output_type": "stream",
     "text": [
      "concatenation example\n",
      "['ketan--salian' 'hi-jsh']\n",
      "ketan--ketan--ketan--\n"
     ]
    }
   ],
   "source": [
    "print(\"concatenation example\")\n",
    "print (np.char.add([\"ketan--\",\"hi\"],[\"salian\",\"-jsh\"]))\n",
    "print (np.char.multiply(\"ketan--\",3))\n"
   ]
  },
  {
   "cell_type": "code",
   "execution_count": 14,
   "id": "5aded9eb",
   "metadata": {},
   "outputs": [
    {
     "name": "stdout",
     "output_type": "stream",
     "text": [
      "range(0, 5)\n",
      "[0 1 2 3 4]\n"
     ]
    }
   ],
   "source": [
    "x=range(5)\n",
    "print(x)\n",
    "\n",
    "y=np.arange(5)\n",
    "print(y)"
   ]
  },
  {
   "cell_type": "code",
   "execution_count": 25,
   "id": "39a430f9",
   "metadata": {},
   "outputs": [
    {
     "name": "stdout",
     "output_type": "stream",
     "text": [
      "b'\\xff\\xfek\\x00e\\x00t\\x00a\\x00n\\x00 \\x00s\\x00a\\x00l\\x00i\\x00a\\x00n\\x00'\n",
      "ketan salian\n"
     ]
    }
   ],
   "source": [
    "text='ketan salian'\n",
    "x=text.encode('utf_16')\n",
    "print(x)\n",
    "y=x.decode('utf_16')\n",
    "print(y)"
   ]
  },
  {
   "cell_type": "code",
   "execution_count": 26,
   "id": "37c6cc50",
   "metadata": {},
   "outputs": [
    {
     "name": "stdout",
     "output_type": "stream",
     "text": [
      "ketan salian\n"
     ]
    }
   ],
   "source": [
    "text= b'\\xff\\xfek\\x00e\\x00t\\x00a\\x00n\\x00 \\x00s\\x00a\\x00l\\x00i\\x00n\\x00a\\x00' \n",
    "\n",
    "y=x.decode(\"utf_16 \")#We use the encode an decode to hide the from the user\n",
    "print(y)"
   ]
  },
  {
   "cell_type": "code",
   "execution_count": 27,
   "id": "bf981836",
   "metadata": {},
   "outputs": [
    {
     "name": "stdout",
     "output_type": "stream",
     "text": [
      "['keetan' 'neeeta']\n"
     ]
    }
   ],
   "source": [
    "x= np.array([\"keetan\",\"neeeta\"])\n",
    "print(np.char.strip(x,chars='e'))"
   ]
  },
  {
   "cell_type": "code",
   "execution_count": 14,
   "id": "9a758962",
   "metadata": {},
   "outputs": [
    {
     "data": {
      "text/plain": [
       "array(['Hello', 'World'], dtype='<U5')"
      ]
     },
     "execution_count": 14,
     "metadata": {},
     "output_type": "execute_result"
    }
   ],
   "source": [
    "x=np.char.capitalize([\"hello\" ,\"world\"])\n",
    "x\n"
   ]
  },
  {
   "cell_type": "code",
   "execution_count": 35,
   "id": "9337d709",
   "metadata": {},
   "outputs": [
    {
     "name": "stdout",
     "output_type": "stream",
     "text": [
      "['keetan ' 'saleian']\n"
     ]
    }
   ],
   "source": [
    "inout=np.array(['keetan ','saleian'])\n",
    "np.char.strip(inout)\n",
    "print(np.char.strip(inout,'e'))"
   ]
  },
  {
   "cell_type": "code",
   "execution_count": 30,
   "id": "f12fc7bd",
   "metadata": {},
   "outputs": [
    {
     "name": "stdout",
     "output_type": "stream",
     "text": [
      "['ketan' 'saleian']\n"
     ]
    }
   ],
   "source": [
    "print(np.char.lstrip([\"ketan\",\"saleian\"],\"e\"))"
   ]
  },
  {
   "cell_type": "code",
   "execution_count": 60,
   "id": "67b03772",
   "metadata": {},
   "outputs": [
    {
     "name": "stdout",
     "output_type": "stream",
     "text": [
      "he was the good dancer\n"
     ]
    }
   ],
   "source": [
    "print(np.char.replace('he is the good dancer','is','was'))"
   ]
  },
  {
   "cell_type": "code",
   "execution_count": 64,
   "id": "bcb722fc",
   "metadata": {},
   "outputs": [
    {
     "name": "stdout",
     "output_type": "stream",
     "text": [
      "******************************ketan*******************************\n"
     ]
    }
   ],
   "source": [
    "print(np.char.center(\"ketan\",66,fillchar='*'))"
   ]
  },
  {
   "cell_type": "markdown",
   "id": "928a6549",
   "metadata": {},
   "source": [
    "# PART2 NUMPY ARRAY"
   ]
  },
  {
   "cell_type": "markdown",
   "id": "f4321619",
   "metadata": {},
   "source": [
    "\n",
    "# #ARRAY MANIPULATION"
   ]
  },
  {
   "cell_type": "code",
   "execution_count": 34,
   "id": "68c5ccd3",
   "metadata": {},
   "outputs": [],
   "source": [
    "import numpy as np"
   ]
  },
  {
   "cell_type": "code",
   "execution_count": 35,
   "id": "b6bdb65f",
   "metadata": {},
   "outputs": [
    {
     "name": "stdout",
     "output_type": "stream",
     "text": [
      "we creat the array\n",
      "[ 0  1  2  3  4  5  6  7  8  9 10 11 12 13 14]\n",
      "now we reshape the array in matrix form\n",
      "[[ 0  1  2  3  4]\n",
      " [ 5  6  7  8  9]\n",
      " [10 11 12 13 14]]\n"
     ]
    }
   ],
   "source": [
    "a=np.arange(15)\n",
    "print(\"we creat the array\")\n",
    "print(a)\n",
    "print(\"now we reshape the array in matrix form\")\n",
    "\n",
    "b=a.reshape(3,5)#if we can not use perfact value in reshape its we give error\n",
    "print(b)\n"
   ]
  },
  {
   "cell_type": "code",
   "execution_count": 75,
   "id": "b082ba7b",
   "metadata": {},
   "outputs": [
    {
     "name": "stdout",
     "output_type": "stream",
     "text": [
      "[ 0  1  2  3  4  5  6  7  8  9 10 11 12 13 14]\n"
     ]
    }
   ],
   "source": [
    "print(b.flatten())#its bring the b array in orignal position"
   ]
  },
  {
   "cell_type": "code",
   "execution_count": 37,
   "id": "0782f038",
   "metadata": {},
   "outputs": [
    {
     "name": "stdout",
     "output_type": "stream",
     "text": [
      "[ 0  5 10  1  6 11  2  7 12  3  8 13  4  9 14]\n"
     ]
    }
   ],
   "source": [
    "print(b.flatten('f'))"
   ]
  },
  {
   "cell_type": "code",
   "execution_count": 91,
   "id": "bf057313",
   "metadata": {},
   "outputs": [
    {
     "name": "stdout",
     "output_type": "stream",
     "text": [
      "[[ 0  1  2  3]\n",
      " [ 4  5  6  7]\n",
      " [ 8  9 10 11]]\n"
     ]
    }
   ],
   "source": [
    "a=np.arange(12).reshape(3,4)\n",
    "print(a)"
   ]
  },
  {
   "cell_type": "code",
   "execution_count": 92,
   "id": "10ab1fb8",
   "metadata": {},
   "outputs": [
    {
     "data": {
      "text/plain": [
       "array([[ 0,  4,  8],\n",
       "       [ 1,  5,  9],\n",
       "       [ 2,  6, 10],\n",
       "       [ 3,  7, 11]])"
      ]
     },
     "execution_count": 92,
     "metadata": {},
     "output_type": "execute_result"
    }
   ],
   "source": [
    "a.transpose()#Equivalent function its revers the data"
   ]
  },
  {
   "cell_type": "code",
   "execution_count": 130,
   "id": "57fd744a",
   "metadata": {},
   "outputs": [
    {
     "name": "stdout",
     "output_type": "stream",
     "text": [
      "[[[0 1]\n",
      "  [2 3]]\n",
      "\n",
      " [[4 5]\n",
      "  [6 7]]]\n"
     ]
    }
   ],
   "source": [
    "a=np.arange(8).reshape(2,2,2)\n",
    "print(a)\n"
   ]
  },
  {
   "cell_type": "code",
   "execution_count": 129,
   "id": "ec55a1bc",
   "metadata": {},
   "outputs": [
    {
     "data": {
      "text/plain": [
       "array([[[0, 2],\n",
       "        [4, 6]],\n",
       "\n",
       "       [[1, 3],\n",
       "        [5, 7]]])"
      ]
     },
     "execution_count": 129,
     "metadata": {},
     "output_type": "execute_result"
    }
   ],
   "source": [
    "np.rollaxis(a,2) #its use to roll the value"
   ]
  },
  {
   "cell_type": "code",
   "execution_count": 131,
   "id": "14db8b69",
   "metadata": {},
   "outputs": [
    {
     "data": {
      "text/plain": [
       "array([[[0, 2],\n",
       "        [1, 3]],\n",
       "\n",
       "       [[4, 6],\n",
       "        [5, 7]]])"
      ]
     },
     "execution_count": 131,
     "metadata": {},
     "output_type": "execute_result"
    }
   ],
   "source": [
    "np.swapaxes(a,1,2)#its use to swap the value "
   ]
  },
  {
   "cell_type": "markdown",
   "id": "35d63188",
   "metadata": {},
   "source": [
    "# NUMPY ARITHEMATIC OPRATION"
   ]
  },
  {
   "cell_type": "code",
   "execution_count": 142,
   "id": "beb0b182",
   "metadata": {},
   "outputs": [
    {
     "name": "stdout",
     "output_type": "stream",
     "text": [
      "[[0 1 2]\n",
      " [3 4 5]\n",
      " [6 7 8]]\n"
     ]
    }
   ],
   "source": [
    "a=np.arange(9).reshape(3,3)\n",
    "print(a)"
   ]
  },
  {
   "cell_type": "code",
   "execution_count": 143,
   "id": "c2f21ab4",
   "metadata": {},
   "outputs": [],
   "source": [
    "# a= np.array([1,2,3,4,5,6])\n",
    "# a.reshape(3,2)\n"
   ]
  },
  {
   "cell_type": "code",
   "execution_count": 149,
   "id": "3ac023cf",
   "metadata": {},
   "outputs": [
    {
     "data": {
      "text/plain": [
       "array([10, 10, 10])"
      ]
     },
     "execution_count": 149,
     "metadata": {},
     "output_type": "execute_result"
    }
   ],
   "source": [
    "b=np.array([10,10,10])\n",
    "b\n"
   ]
  },
  {
   "cell_type": "code",
   "execution_count": 151,
   "id": "83ed4d4f",
   "metadata": {},
   "outputs": [
    {
     "data": {
      "text/plain": [
       "array([[10, 11, 12],\n",
       "       [13, 14, 15],\n",
       "       [16, 17, 18]])"
      ]
     },
     "execution_count": 151,
     "metadata": {},
     "output_type": "execute_result"
    }
   ],
   "source": [
    "np.add(a,b)\n"
   ]
  },
  {
   "cell_type": "code",
   "execution_count": 152,
   "id": "d97439b2",
   "metadata": {},
   "outputs": [
    {
     "data": {
      "text/plain": [
       "array([[-10,  -9,  -8],\n",
       "       [ -7,  -6,  -5],\n",
       "       [ -4,  -3,  -2]])"
      ]
     },
     "execution_count": 152,
     "metadata": {},
     "output_type": "execute_result"
    }
   ],
   "source": [
    "np.subtract(a,b)"
   ]
  },
  {
   "cell_type": "code",
   "execution_count": 153,
   "id": "c365f1d9",
   "metadata": {},
   "outputs": [
    {
     "data": {
      "text/plain": [
       "array([[ 0, 10, 20],\n",
       "       [30, 40, 50],\n",
       "       [60, 70, 80]])"
      ]
     },
     "execution_count": 153,
     "metadata": {},
     "output_type": "execute_result"
    }
   ],
   "source": [
    "np.multiply(a,b,)"
   ]
  },
  {
   "cell_type": "markdown",
   "id": "df718800",
   "metadata": {},
   "source": [
    "# slicing"
   ]
  },
  {
   "cell_type": "code",
   "execution_count": 162,
   "id": "bd310d45",
   "metadata": {},
   "outputs": [
    {
     "data": {
      "text/plain": [
       "array([0, 1, 2, 3, 4, 5, 6, 7, 8, 9])"
      ]
     },
     "execution_count": 162,
     "metadata": {},
     "output_type": "execute_result"
    }
   ],
   "source": [
    "a=np.arange(10)\n",
    "a"
   ]
  },
  {
   "cell_type": "code",
   "execution_count": 163,
   "id": "e5619dfa",
   "metadata": {},
   "outputs": [
    {
     "data": {
      "text/plain": [
       "array([4, 5, 6, 7])"
      ]
     },
     "execution_count": 163,
     "metadata": {},
     "output_type": "execute_result"
    }
   ],
   "source": [
    "a[4:8]"
   ]
  },
  {
   "cell_type": "code",
   "execution_count": 164,
   "id": "99b61cc4",
   "metadata": {},
   "outputs": [
    {
     "data": {
      "text/plain": [
       "array([2, 5, 8])"
      ]
     },
     "execution_count": 164,
     "metadata": {},
     "output_type": "execute_result"
    }
   ],
   "source": [
    "s=slice(2,9,3)#its start from2 end at 9 last take the odd num \n",
    "a[s]"
   ]
  },
  {
   "cell_type": "markdown",
   "id": "5b02df26",
   "metadata": {},
   "source": [
    "# itration over array"
   ]
  },
  {
   "cell_type": "code",
   "execution_count": 38,
   "id": "c3443bde",
   "metadata": {},
   "outputs": [
    {
     "name": "stdout",
     "output_type": "stream",
     "text": [
      "0\n",
      "2\n",
      "4\n",
      "6\n",
      "8\n",
      "10\n",
      "12\n",
      "14\n",
      "16\n"
     ]
    }
   ],
   "source": [
    "a = np.arange(0,18,2).reshape(3,3)\n",
    "for x in np.nditer(a): #this use for itrate the valu\n",
    "     print(x)\n"
   ]
  },
  {
   "cell_type": "markdown",
   "id": "26ac8318",
   "metadata": {},
   "source": [
    "# ITRATION ORDER IN C TYPE TO F TYPE\n"
   ]
  },
  {
   "cell_type": "code",
   "execution_count": 39,
   "id": "9de42ff8",
   "metadata": {},
   "outputs": [
    {
     "name": "stdout",
     "output_type": "stream",
     "text": [
      "[[ 0  2  4]\n",
      " [ 6  8 10]\n",
      " [12 14 16]]\n",
      "0\n",
      "2\n",
      "4\n",
      "6\n",
      "8\n",
      "10\n",
      "12\n",
      "14\n",
      "16\n",
      "\n",
      "0\n",
      "6\n",
      "12\n",
      "2\n",
      "8\n",
      "14\n",
      "4\n",
      "10\n",
      "16\n"
     ]
    }
   ],
   "source": [
    "print(a)\n",
    "for x in np.nditer(a, order='c'):\n",
    "    print(x,)\n",
    "\n",
    "print()\n",
    "\n",
    "for x in np.nditer(a, order='f'):\n",
    "    print(x)\n",
    "    "
   ]
  },
  {
   "cell_type": "markdown",
   "id": "11cf5613",
   "metadata": {},
   "source": [
    "# JOINING ARRAY"
   ]
  },
  {
   "cell_type": "code",
   "execution_count": 239,
   "id": "ddef0b8b",
   "metadata": {},
   "outputs": [
    {
     "name": "stdout",
     "output_type": "stream",
     "text": [
      "first aray [[1 2]\n",
      " [3 4]]\n"
     ]
    }
   ],
   "source": [
    "a = np.array([[1,2],[3,4]])\n",
    "print(\"first aray\",a)"
   ]
  },
  {
   "cell_type": "code",
   "execution_count": 240,
   "id": "bc40dc0b",
   "metadata": {},
   "outputs": [
    {
     "name": "stdout",
     "output_type": "stream",
     "text": [
      "second array [[5 6]\n",
      " [7 8]]\n"
     ]
    }
   ],
   "source": [
    "b = np.array([[5,6],[7,8]])\n",
    "print(\"second array\",b)"
   ]
  },
  {
   "cell_type": "code",
   "execution_count": 241,
   "id": "b8ab0692",
   "metadata": {},
   "outputs": [
    {
     "name": "stdout",
     "output_type": "stream",
     "text": [
      "[[1 2]\n",
      " [3 4]\n",
      " [5 6]\n",
      " [7 8]]\n"
     ]
    }
   ],
   "source": [
    "print(np.concatenate([a,b]))"
   ]
  },
  {
   "cell_type": "code",
   "execution_count": 242,
   "id": "7bf2d812",
   "metadata": {},
   "outputs": [
    {
     "name": "stdout",
     "output_type": "stream",
     "text": [
      "[[1 2 5 6]\n",
      " [3 4 7 8]]\n"
     ]
    }
   ],
   "source": [
    "print(np.concatenate([a,b],axis=1))"
   ]
  },
  {
   "cell_type": "code",
   "execution_count": 243,
   "id": "1781775c",
   "metadata": {},
   "outputs": [
    {
     "name": "stdout",
     "output_type": "stream",
     "text": [
      "[0 1 2 3 4 5 6 7 8]\n",
      "[array([0, 1, 2]), array([3, 4, 5]), array([6, 7, 8])]\n"
     ]
    },
    {
     "data": {
      "text/plain": [
       "[array([0, 1, 2, 3]), array([4]), array([5, 6, 7, 8])]"
      ]
     },
     "execution_count": 243,
     "metadata": {},
     "output_type": "execute_result"
    }
   ],
   "source": [
    "a= np.arange(9)\n",
    "print(a)\n",
    "print(np.split(a,3))#split we use to convert the arange in give split value\n",
    "np.split(a,[4,5])"
   ]
  },
  {
   "cell_type": "code",
   "execution_count": 244,
   "id": "93aaa38d",
   "metadata": {},
   "outputs": [
    {
     "data": {
      "text/plain": [
       "[array([0, 1, 2, 3]), array([4, 5, 6]), array([7, 8])]"
      ]
     },
     "execution_count": 244,
     "metadata": {},
     "output_type": "execute_result"
    }
   ],
   "source": [
    "np.split(a,[4,7])"
   ]
  },
  {
   "cell_type": "markdown",
   "id": "f85313ba",
   "metadata": {},
   "source": [
    "# RESIZING THE ARRAY"
   ]
  },
  {
   "cell_type": "code",
   "execution_count": 55,
   "id": "52eefb25",
   "metadata": {},
   "outputs": [
    {
     "name": "stdout",
     "output_type": "stream",
     "text": [
      "[[1 2 3]\n",
      " [4 5 6]]\n",
      "(2, 3)\n",
      "\n",
      "\n",
      "[[1 2]\n",
      " [3 4]\n",
      " [5 6]]\n",
      "(3, 2)\n",
      "\n",
      "\n",
      "[[1 2]\n",
      " [3 4]\n",
      " [5 6]\n",
      " [1 2]] \n",
      "\n",
      "(4, 2)\n"
     ]
    }
   ],
   "source": [
    "a = np.array([[1,2,3],[4,5,6]])\n",
    "print(a)\n",
    "print(np.shape(a))\n",
    "print(\"\\n\")\n",
    "\n",
    "b=np.resize(a,[3,2])#its use to resize the shape \n",
    "print(b)\n",
    "print(b.shape)\n",
    "print('\\n')\n",
    "b=np.resize(a,[4,2])#you can use and (r,c)to resize without error it we repet the value but no give you the error.\n",
    "print(b,\"\\n\")\n",
    "print(b.shape)"
   ]
  },
  {
   "cell_type": "markdown",
   "id": "72e04890",
   "metadata": {},
   "source": [
    "# HISTOGRAM"
   ]
  },
  {
   "cell_type": "code",
   "execution_count": 1,
   "id": "43b3468c",
   "metadata": {},
   "outputs": [
    {
     "data": {
      "image/png": "[encoded data removed]",
      "text/plain": [
       "<Figure size 432x288 with 1 Axes>"
      ]
     },
     "metadata": {
      "needs_background": "light"
     },
     "output_type": "display_data"
    }
   ],
   "source": [
    "from matplotlib import pyplot as plt\n",
    "import numpy as np\n",
    "a=np.array([10,25,6,45,90,35,20,0,30,50])\n",
    "plt.hist(a,bins=[0,20,40,60,80,100])\n",
    "plt.title(\"histogram\")\n",
    "plt.xlabel(\"x-Histogram\")\n",
    "plt.show()\n",
    "\n",
    "        "
   ]
  },
  {
   "cell_type": "code",
   "execution_count": 2,
   "id": "0d77c3dd",
   "metadata": {},
   "outputs": [
    {
     "data": {
      "text/plain": [
       "(array([2., 1., 4., 2., 0., 1.]),\n",
       " array([  0,  10,  20,  40,  60,  80, 100]),\n",
       " <BarContainer object of 6 artists>)"
      ]
     },
     "execution_count": 2,
     "metadata": {},
     "output_type": "execute_result"
    },
    {
     "data": {
      "image/png": "[encoded data removed]",
      "text/plain": [
       "<Figure size 432x288 with 1 Axes>"
      ]
     },
     "metadata": {
      "needs_background": "light"
     },
     "output_type": "display_data"
    }
   ],
   "source": [
    "plt.hist(a,bins=[0,10,20,40,60,80,100])\n",
    "\n",
    "\n"
   ]
  },
  {
   "cell_type": "markdown",
   "id": "5beb7214",
   "metadata": {},
   "source": [
    "# Other UseFull funtion in numpy"
   ]
  },
  {
   "cell_type": "code",
   "execution_count": 6,
   "id": "03fc022b",
   "metadata": {},
   "outputs": [
    {
     "data": {
      "image/png": "[encoded data removed]",
      "text/plain": [
       "<Figure size 432x288 with 1 Axes>"
      ]
     },
     "metadata": {
      "needs_background": "light"
     },
     "output_type": "display_data"
    },
    {
     "name": "stdout",
     "output_type": "stream",
     "text": [
      "[ 1.          1.47368421  1.94736842  2.42105263  2.89473684  3.36842105\n",
      "  3.84210526  4.31578947  4.78947368  5.26315789  5.73684211  6.21052632\n",
      "  6.68421053  7.15789474  7.63157895  8.10526316  8.57894737  9.05263158\n",
      "  9.52631579 10.        ]\n"
     ]
    }
   ],
   "source": [
    "#linespace funtion The numpy.linspace() function returns number spaces evenly w.r.t interval.\n",
    "#Similar to numpy.arange() function but instead of step it uses sample number.(start, stop, step) \n",
    "\n",
    "a=np.linspace(1,10,20)\n",
    "b=np.linspace(10,20,30)\n",
    "b=np.sin(a)\n",
    "plt.stem(a,b)\n",
    "plt.xlim(1,10)\n",
    "plt.show()\n",
    "\n",
    "print(a)"
   ]
  },
  {
   "cell_type": "code",
   "execution_count": 7,
   "id": "9f29d3ba",
   "metadata": {},
   "outputs": [
    {
     "data": {
      "text/plain": [
       "array([5, 7, 9])"
      ]
     },
     "execution_count": 7,
     "metadata": {},
     "output_type": "execute_result"
    }
   ],
   "source": [
    "#SUM AND AXIS\n",
    "a=np.array([[1,2,3],[4,5,6]])\n",
    "np.sum(a,axis=0)#its we give you the sum of both axis"
   ]
  },
  {
   "cell_type": "code",
   "execution_count": 8,
   "id": "3639161d",
   "metadata": {},
   "outputs": [
    {
     "data": {
      "text/plain": [
       "array([ 6, 15])"
      ]
     },
     "execution_count": 8,
     "metadata": {},
     "output_type": "execute_result"
    }
   ],
   "source": [
    "a=np.array([[1,2,3],[4,5,6]])\n",
    "np.sum(a,axis=1)"
   ]
  },
  {
   "cell_type": "code",
   "execution_count": 9,
   "id": "a7fd7f0f",
   "metadata": {},
   "outputs": [
    {
     "name": "stdout",
     "output_type": "stream",
     "text": [
      "[[1.         1.41421356 1.73205081]\n",
      " [2.         2.23606798 2.44948974]]\n"
     ]
    },
    {
     "data": {
      "text/plain": [
       "1.707825127659933"
      ]
     },
     "execution_count": 9,
     "metadata": {},
     "output_type": "execute_result"
    }
   ],
   "source": [
    "#square root and stander diviation\n",
    "a=np.array([[1,2,3],[4,5,6]])\n",
    "print(np.sqrt(a))\n",
    "\n",
    "np.std(a)"
   ]
  },
  {
   "cell_type": "code",
   "execution_count": 123,
   "id": "ae0287f7",
   "metadata": {},
   "outputs": [
    {
     "name": "stdout",
     "output_type": "stream",
     "text": [
      "[[0.         0.30103    0.47712125]\n",
      " [0.60205999 0.69897    0.77815125]]\n"
     ]
    }
   ],
   "source": [
    "#log funtion \n",
    "a=np.array([[1,2,3],[4,5,6]])\n",
    "print(np.log10(a))"
   ]
  },
  {
   "cell_type": "markdown",
   "id": "bd59fabc",
   "metadata": {},
   "source": [
    "# NUMPY PRACTISE EXAMPLE"
   ]
  },
  {
   "cell_type": "code",
   "execution_count": null,
   "id": "abfffbc8",
   "metadata": {},
   "outputs": [],
   "source": [
    "#Now we are using the numpy and matplotlab for the sin grap"
   ]
  },
  {
   "cell_type": "code",
   "execution_count": 10,
   "id": "7316c15d",
   "metadata": {},
   "outputs": [
    {
     "name": "stdout",
     "output_type": "stream",
     "text": [
      "[0.  0.1 0.2 0.3 0.4 0.5 0.6 0.7 0.8 0.9 1.  1.1 1.2 1.3 1.4 1.5 1.6 1.7\n",
      " 1.8 1.9 2.  2.1 2.2 2.3 2.4 2.5 2.6 2.7 2.8 2.9 3.  3.1 3.2 3.3 3.4 3.5\n",
      " 3.6 3.7 3.8 3.9 4.  4.1 4.2 4.3 4.4 4.5 4.6 4.7 4.8 4.9 5.  5.1 5.2 5.3\n",
      " 5.4 5.5 5.6 5.7 5.8 5.9 6.  6.1 6.2 6.3 6.4 6.5 6.6 6.7 6.8 6.9 7.  7.1\n",
      " 7.2 7.3 7.4 7.5 7.6 7.7 7.8 7.9 8.  8.1 8.2 8.3 8.4 8.5 8.6 8.7 8.8 8.9\n",
      " 9.  9.1 9.2 9.3 9.4]\n"
     ]
    },
    {
     "data": {
      "image/png": "[encoded data removed]",
      "text/plain": [
       "<Figure size 432x288 with 1 Axes>"
      ]
     },
     "metadata": {
      "needs_background": "light"
     },
     "output_type": "display_data"
    }
   ],
   "source": [
    "from matplotlib import pyplot as plt\n",
    "import numpy as np\n",
    "x=np.arange(0,3*np.pi,0.1)\n",
    "print(x)\n",
    "y=np.sin(x)#We use the sin value in graps\n",
    "plt.stem(x,y)# you can use any plot typ like STEM PLOT SCATTER ect\n",
    "plt.title(\"SIN GRAP\")\n",
    "plt.show()\n",
    "\n"
   ]
  },
  {
   "cell_type": "code",
   "execution_count": 11,
   "id": "b3912b69",
   "metadata": {},
   "outputs": [],
   "source": [
    "#Create a 6*6 two-dimentional array, and let1 and 0 be place alternatively across the diagonals "
   ]
  },
  {
   "cell_type": "code",
   "execution_count": 12,
   "id": "9e74a25c",
   "metadata": {},
   "outputs": [
    {
     "data": {
      "text/plain": [
       "array([[0, 1, 0, 1, 0, 1],\n",
       "       [1, 0, 1, 0, 1, 0],\n",
       "       [0, 1, 0, 1, 0, 1],\n",
       "       [1, 0, 1, 0, 1, 0],\n",
       "       [0, 1, 0, 1, 0, 1],\n",
       "       [1, 0, 1, 0, 1, 0]])"
      ]
     },
     "execution_count": 12,
     "metadata": {},
     "output_type": "execute_result"
    }
   ],
   "source": [
    "x=np.zeros((6,6),dtype=int)\n",
    "x[1::2,::2] = 1\n",
    "x[::2,1::2] = 1\n",
    "\n",
    "x"
   ]
  },
  {
   "cell_type": "code",
   "execution_count": null,
   "id": "911305ca",
   "metadata": {},
   "outputs": [],
   "source": []
  },
  {
   "cell_type": "code",
   "execution_count": null,
   "id": "35d06c46",
   "metadata": {},
   "outputs": [],
   "source": []
  },
  {
   "cell_type": "code",
   "execution_count": null,
   "id": "c7b749dc",
   "metadata": {},
   "outputs": [],
   "source": []
  },
  {
   "cell_type": "code",
   "execution_count": null,
   "id": "0f8beb5d",
   "metadata": {},
   "outputs": [],
   "source": []
  },
  {
   "cell_type": "code",
   "execution_count": null,
   "id": "309a5e30",
   "metadata": {},
   "outputs": [],
   "source": []
  },
  {
   "cell_type": "code",
   "execution_count": null,
   "id": "8ce15d7f",
   "metadata": {},
   "outputs": [],
   "source": []
  },
  {
   "cell_type": "code",
   "execution_count": null,
   "id": "d12d0dc1",
   "metadata": {},
   "outputs": [],
   "source": []
  },
  {
   "cell_type": "code",
   "execution_count": null,
   "id": "ecccdc74",
   "metadata": {},
   "outputs": [],
   "source": []
  },
  {
   "cell_type": "code",
   "execution_count": null,
   "id": "5dc67308",
   "metadata": {},
   "outputs": [],
   "source": []
  },
  {
   "cell_type": "code",
   "execution_count": null,
   "id": "3a03a1a2",
   "metadata": {},
   "outputs": [],
   "source": []
  },
  {
   "cell_type": "code",
   "execution_count": null,
   "id": "3b3f3c40",
   "metadata": {},
   "outputs": [],
   "source": []
  },
  {
   "cell_type": "code",
   "execution_count": null,
   "id": "811ff486",
   "metadata": {},
   "outputs": [],
   "source": []
  },
  {
   "cell_type": "code",
   "execution_count": null,
   "id": "acc83aaa",
   "metadata": {},
   "outputs": [],
   "source": []
  },
  {
   "cell_type": "code",
   "execution_count": null,
   "id": "cee859a0",
   "metadata": {},
   "outputs": [],
   "source": []
  },
  {
   "cell_type": "code",
   "execution_count": null,
   "id": "acca4577",
   "metadata": {},
   "outputs": [],
   "source": []
  },
  {
   "cell_type": "code",
   "execution_count": null,
   "id": "13ee8ed8",
   "metadata": {},
   "outputs": [],
   "source": []
  },
  {
   "cell_type": "code",
   "execution_count": null,
   "id": "b85cfb82",
   "metadata": {},
   "outputs": [],
   "source": []
  },
  {
   "cell_type": "code",
   "execution_count": null,
   "id": "02aefdb8",
   "metadata": {},
   "outputs": [],
   "source": []
  },
  {
   "cell_type": "code",
   "execution_count": null,
   "id": "0e1359d9",
   "metadata": {},
   "outputs": [],
   "source": []
  },
  {
   "cell_type": "code",
   "execution_count": null,
   "id": "17c9d90e",
   "metadata": {},
   "outputs": [],
   "source": []
  },
  {
   "cell_type": "code",
   "execution_count": null,
   "id": "7b4df289",
   "metadata": {},
   "outputs": [],
   "source": []
  },
  {
   "cell_type": "code",
   "execution_count": null,
   "id": "eb3f4e2c",
   "metadata": {},
   "outputs": [],
   "source": []
  },
  {
   "cell_type": "code",
   "execution_count": null,
   "id": "773f17b9",
   "metadata": {},
   "outputs": [],
   "source": []
  },
  {
   "cell_type": "code",
   "execution_count": null,
   "id": "63137e37",
   "metadata": {},
   "outputs": [],
   "source": []
  },
  {
   "cell_type": "code",
   "execution_count": null,
   "id": "1be0b21c",
   "metadata": {},
   "outputs": [],
   "source": []
  }
 ],
 "metadata": {
  "kernelspec": {
   "display_name": "Python 3 (ipykernel)",
   "language": "python",
   "name": "python3"
  },
  "language_info": {
   "codemirror_mode": {
    "name": "ipython",
    "version": 3
   },
   "file_extension": ".py",
   "mimetype": "text/x-python",
   "name": "python",
   "nbconvert_exporter": "python",
   "pygments_lexer": "ipython3",
   "version": "3.9.7"
  }
 },
 "nbformat": 4,
 "nbformat_minor": 5
}
